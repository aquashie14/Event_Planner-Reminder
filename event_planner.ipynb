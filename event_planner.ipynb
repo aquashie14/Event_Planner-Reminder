{
 "cells": [
  {
   "cell_type": "code",
   "execution_count": null,
   "id": "7d26eba0",
   "metadata": {},
   "outputs": [],
   "source": [
    "#Importing required modules\n",
    "import json\n",
    "from datetime import datetime, timedelta"
   ]
  },
  {
   "cell_type": "code",
   "execution_count": null,
   "id": "952c2d75",
   "metadata": {},
   "outputs": [],
   "source": [
    "#Create the event format\n",
    "events = [\n",
    "    {\n",
    "        \"title\": \"\",\n",
    "        \"description\": \"\",\n",
    "        \"date\": \"\"\n",
    "    }\n",
    "]"
   ]
  },
  {
   "cell_type": "code",
   "execution_count": null,
   "id": "c9a1fd24",
   "metadata": {},
   "outputs": [],
   "source": [
    "#Function to add an event to the planner\n",
    "def add_event():\n",
    "    title = input(\"Enter the event title: \").strip()\n",
    "    description = input(\"Enter the event description: \").strip()\n",
    "    date= input(\"Enter the event date (YYYY-MM-DD): \").strip()\n",
    "    \n",
    "    try:\n",
    "        date = datetime.strptime(date, \"%Y-%m-%d\")\n",
    "    except ValueError:\n",
    "        print(\"Invalid date format. Please use YYYY-MM-DD.\")\n",
    "        return\n",
    "    \n",
    "    event = {\n",
    "        \"title\": title,\n",
    "        \"description\": description,\n",
    "        \"date\": date.strftime(\"%Y-%m-%d\")\n",
    "    }\n",
    "    \n",
    "    events.append(event)\n",
    "    print(f\"Event '{title}' added successfully.\")"
   ]
  },
  {
   "cell_type": "code",
   "execution_count": null,
   "id": "4a21b6a4",
   "metadata": {},
   "outputs": [],
   "source": [
    "#Function to view all events\n",
    "def view_events():\n",
    "    if not events:\n",
    "        print(\"No events found.\")\n",
    "        return\n",
    "    \n",
    "    sorted_events = sorted(events, key=lambda x: datetime.strptime(x['date'], \"%Y-%m-%d\"))\n",
    "    print(\"\\n Upcoming Events:\")\n",
    "    for event in sorted_events:\n",
    "        print(f\"Title: {event['title']}, Description: {event['description']}, Date: {event['date']}\")"
   ]
  },
  {
   "cell_type": "code",
   "execution_count": null,
   "id": "6a63429a",
   "metadata": {},
   "outputs": [],
   "source": [
    "#Function to search for events by date or title \n",
    "def search_events():\n",
    "    if not events:\n",
    "        print(\"No events found.\")\n",
    "        return\n",
    "    \n",
    "    sorted_events = sorted(events, key=lambda x: datetime.strptime(x['date'], \"%Y-%m-%d\"))\n",
    "    print(\"\\n Upcoming Events:\")\n",
    "\n",
    "    for event in sorted_events:\n",
    "        print(f\"Title: {event['title']}, Description: {event['description']}, Date: {event['date']}\")"
   ]
  },
  {
   "cell_type": "code",
   "execution_count": null,
   "id": "1ffefa2c",
   "metadata": {},
   "outputs": [],
   "source": []
  }
 ],
 "metadata": {
  "kernelspec": {
   "display_name": "Python 3",
   "language": "python",
   "name": "python3"
  },
  "language_info": {
   "name": "python",
   "version": "3.12.3"
  }
 },
 "nbformat": 4,
 "nbformat_minor": 5
}
